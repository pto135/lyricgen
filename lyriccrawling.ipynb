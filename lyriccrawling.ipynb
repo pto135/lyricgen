{
  "cells": [
    {
      "cell_type": "code",
      "execution_count": null,
      "metadata": {
        "colab": {
          "base_uri": "https://localhost:8080/"
        },
        "id": "FI3Y2uC8sBwp",
        "outputId": "7aa9b2df-3f3a-4ac0-e165-0154d50f430c"
      },
      "outputs": [
        {
          "name": "stdout",
          "output_type": "stream",
          "text": [
            "Drive already mounted at /content/drive; to attempt to forcibly remount, call drive.mount(\"/content/drive\", force_remount=True).\n"
          ]
        }
      ],
      "source": [
        "from google.colab import drive\n",
        "drive.mount('/content/drive')"
      ]
    },
    {
      "cell_type": "code",
      "execution_count": null,
      "metadata": {
        "id": "8XGhORRmFQHt"
      },
      "outputs": [],
      "source": [
        "from bs4 import BeautifulSoup\n",
        "import requests\n",
        "import time\n",
        "import pickle\n",
        "import pandas as pd"
      ]
    },
    {
      "cell_type": "code",
      "execution_count": null,
      "metadata": {
        "id": "xrOlBJEQwNwI"
      },
      "outputs": [],
      "source": [
        "from bs4 import BeautifulSoup\n",
        "import requests\n",
        "\n",
        "url = 'https://music.bugs.co.kr/genre/kpop/rock/total?tabtype=2'\n",
        "resp = requests.get(url)\n",
        "soup = BeautifulSoup(resp.content, 'lxml')"
      ]
    },
    {
      "cell_type": "code",
      "execution_count": null,
      "metadata": {
        "id": "pUNe05NuxHWz"
      },
      "outputs": [],
      "source": [
        "tr_tags = soup.select(\"tr\")"
      ]
    },
    {
      "cell_type": "code",
      "execution_count": null,
      "metadata": {
        "id": "xyeL4I8PxHzx"
      },
      "outputs": [],
      "source": [
        "td_tags = soup.select(\"td.check\")"
      ]
    },
    {
      "cell_type": "code",
      "execution_count": null,
      "metadata": {
        "colab": {
          "base_uri": "https://localhost:8080/"
        },
        "id": "bX2ubWv1y1cG",
        "outputId": "9422f07e-5f09-490b-b0b3-164c8611327f"
      },
      "outputs": [
        {
          "data": {
            "text/plain": [
              "50"
            ]
          },
          "execution_count": 20,
          "metadata": {},
          "output_type": "execute_result"
        }
      ],
      "source": [
        "len(td_tags)"
      ]
    },
    {
      "cell_type": "code",
      "execution_count": null,
      "metadata": {
        "id": "zCbSikoozBSy"
      },
      "outputs": [],
      "source": [
        "url = 'https://music.bugs.co.kr/track/32892062?wl_ref=list_tr_08'\n",
        "resp = requests.get(url)\n",
        "soup = BeautifulSoup(resp.content, 'lxml')"
      ]
    },
    {
      "cell_type": "code",
      "execution_count": null,
      "metadata": {
        "colab": {
          "base_uri": "https://localhost:8080/",
          "height": 127
        },
        "id": "Sm_rrdrDzBTf",
        "outputId": "2919c231-131b-4ddf-a655-1f2ff2bbf8eb"
      },
      "outputs": [
        {
          "data": {
            "application/vnd.google.colaboratory.intrinsic+json": {
              "type": "string"
            },
            "text/plain": [
              "'숨 죽은듯 조용한 나의 일상 속엔\\r\\n알 수 없는 파도가 움직이는것만 같아\\r\\n나는 다시금 마음의 창을 열고서\\r\\n누굴 찾으려 앉아있나 하는데\\r\\n걷다가 우연히 앞에\\r\\n나타난 너를 보고서 그 자리에\\r\\n멈춰선 날 흔들고\\r\\n가버린 작은 바람과 꿈들\\r\\n지금 도저히 정신이 안차려져\\r\\n잠깐 누워 있어야 할 것만 같아\\r\\n네가 말하는 것들 모두\\r\\n난 하나도 들을 수 없네\\r\\n우리 사이 길지 않던 기다림끝에 또\\r\\n우린 다시 운명처럼 서로를 알아보고\\r\\n차가운 공기 기나긴 고민과 함께\\r\\n하나가 되어 입맞췄네 살포시\\r\\n걷다가 우연히 앞에\\r\\n나타난 너를 보고서 그 자리에\\r\\n멈춰선 날 흔들고\\r\\n가버린 작은 바람과 꿈들\\r\\n지금 도저히 정신이 안차려져\\r\\n잠깐 누워 있어야 할 것만 같아\\r\\n너가 말하는 것들 모두\\r\\n난 하나도 들을 수 없네'"
            ]
          },
          "execution_count": 69,
          "metadata": {},
          "output_type": "execute_result"
        }
      ],
      "source": [
        "str(soup.select(\"div.lyricsContainer xmp\")[0])[5:-6]"
      ]
    },
    {
      "cell_type": "code",
      "execution_count": null,
      "metadata": {
        "colab": {
          "base_uri": "https://localhost:8080/"
        },
        "id": "beplerZC25JA",
        "outputId": "f5d83a65-7ae0-45b7-f816-4ec09d9c670b"
      },
      "outputs": [
        {
          "data": {
            "text/plain": [
              "16"
            ]
          },
          "execution_count": 30,
          "metadata": {},
          "output_type": "execute_result"
        }
      ],
      "source": [
        "len('32892062\"/></td>')"
      ]
    },
    {
      "cell_type": "code",
      "execution_count": null,
      "metadata": {
        "id": "zw8mqT_B3DsG"
      },
      "outputs": [],
      "source": [
        "from bs4 import BeautifulSoup\n",
        "import requests\n",
        "\n",
        "url = 'https://music.bugs.co.kr/genre/kpop/rock/total?tabtype=2'\n",
        "resp = requests.get(url)\n",
        "soup = BeautifulSoup(resp.content, 'lxml')"
      ]
    },
    {
      "cell_type": "code",
      "execution_count": null,
      "metadata": {
        "colab": {
          "base_uri": "https://localhost:8080/",
          "height": 35
        },
        "id": "C-GZ4R5C3ROF",
        "outputId": "de2f2570-c35e-4ef3-f9b3-c13991363c5c"
      },
      "outputs": [
        {
          "data": {
            "application/vnd.google.colaboratory.intrinsic+json": {
              "type": "string"
            },
            "text/plain": [
              "'32892062'"
            ]
          },
          "execution_count": 56,
          "metadata": {},
          "output_type": "execute_result"
        }
      ],
      "source": [
        "str(td_tags[0]).split('=')[-1][1:-8]"
      ]
    },
    {
      "cell_type": "code",
      "execution_count": null,
      "metadata": {
        "colab": {
          "base_uri": "https://localhost:8080/"
        },
        "id": "xcLmgO-p2ecb",
        "outputId": "29837528-1f33-495d-856b-13ba6ac75244"
      },
      "outputs": [
        {
          "data": {
            "text/plain": [
              "['32892062',\n",
              " '32889903',\n",
              " '32889577',\n",
              " '32888366',\n",
              " '32874182',\n",
              " '6204076',\n",
              " '6203969',\n",
              " '32891920',\n",
              " '32890181',\n",
              " '32889953',\n",
              " '32889682',\n",
              " '32889526',\n",
              " '32889516',\n",
              " '32888752',\n",
              " '32888741',\n",
              " '32888354',\n",
              " '32888128',\n",
              " '32887946',\n",
              " '32887897',\n",
              " '32884995',\n",
              " '32884917',\n",
              " '32883354',\n",
              " '32878279',\n",
              " '32860003',\n",
              " '103566720',\n",
              " '32889770',\n",
              " '32889407',\n",
              " '32888338',\n",
              " '32888295',\n",
              " '32887761',\n",
              " '32886756',\n",
              " '32886527',\n",
              " '32884370',\n",
              " '6203983',\n",
              " '6203912',\n",
              " '6203739',\n",
              " '32888735',\n",
              " '32887374',\n",
              " '32886745',\n",
              " '32886290',\n",
              " '32881597',\n",
              " '6203792',\n",
              " '6203779',\n",
              " '32886674',\n",
              " '32884117',\n",
              " '32884095',\n",
              " '32883891',\n",
              " '32883818',\n",
              " '32883367',\n",
              " '32882638']"
            ]
          },
          "execution_count": 59,
          "metadata": {},
          "output_type": "execute_result"
        }
      ],
      "source": [
        "idlist = []\n",
        "for tag in td_tags:\n",
        "    idlist.append(str(tag).split('=')[-1][1:-8])\n",
        "idlist"
      ]
    },
    {
      "cell_type": "code",
      "execution_count": null,
      "metadata": {
        "id": "-q72gG1a8kHK"
      },
      "outputs": [],
      "source": [
        "import time"
      ]
    },
    {
      "cell_type": "code",
      "execution_count": null,
      "metadata": {
        "id": "__jjlBCn2edG"
      },
      "outputs": [],
      "source": [
        "lyrics = []\n",
        "containers = []\n",
        "for id in idlist[:7]:\n",
        "    trackurl = 'https://music.bugs.co.kr/track/{}?wl_ref=list_tr_08'.format(id)\n",
        "    trackresp = requests.get(trackurl)\n",
        "    tracksoup = BeautifulSoup(trackresp.content, 'lxml')\n",
        "    contain = tracksoup.select(\"div.lyricsContainer xmp\")\n",
        "    if contain:\n",
        "        lyric = str(tracksoup.select(\"div.lyricsContainer xmp\")[0])[5:-6]\n",
        "    else :\n",
        "        lyric = ''\n",
        "    lyrics.append(lyric)\n",
        "    time.sleep(2)"
      ]
    },
    {
      "cell_type": "code",
      "execution_count": null,
      "metadata": {
        "colab": {
          "base_uri": "https://localhost:8080/",
          "height": 424
        },
        "id": "FqwGnbnRX3JC",
        "outputId": "4b59f353-688c-4dab-a747-04fc2cc18578"
      },
      "outputs": [
        {
          "data": {
            "text/html": [
              "\n",
              "  <div id=\"df-00b5e2a5-4901-4bda-ae89-4d9648ad20e3\">\n",
              "    <div class=\"colab-df-container\">\n",
              "      <div>\n",
              "<style scoped>\n",
              "    .dataframe tbody tr th:only-of-type {\n",
              "        vertical-align: middle;\n",
              "    }\n",
              "\n",
              "    .dataframe tbody tr th {\n",
              "        vertical-align: top;\n",
              "    }\n",
              "\n",
              "    .dataframe thead th {\n",
              "        text-align: right;\n",
              "    }\n",
              "</style>\n",
              "<table border=\"1\" class=\"dataframe\">\n",
              "  <thead>\n",
              "    <tr style=\"text-align: right;\">\n",
              "      <th></th>\n",
              "      <th>trackid</th>\n",
              "      <th>lyrics</th>\n",
              "    </tr>\n",
              "  </thead>\n",
              "  <tbody>\n",
              "    <tr>\n",
              "      <th>0</th>\n",
              "      <td>32467999</td>\n",
              "      <td>좁은 천장에서 또 깨어\\r\\n몸을 가누며 너를 기다린듯 해\\r\\n비워지는 몸뚱아리는...</td>\n",
              "    </tr>\n",
              "    <tr>\n",
              "      <th>1</th>\n",
              "      <td>32467950</td>\n",
              "      <td></td>\n",
              "    </tr>\n",
              "    <tr>\n",
              "      <th>2</th>\n",
              "      <td>32466498</td>\n",
              "      <td>꿈이 있어 난\\r\\n쉽지만은 않은 꿈\\r\\n길이 보일 듯\\r\\n보이지 않는 그곳에\\...</td>\n",
              "    </tr>\n",
              "    <tr>\n",
              "      <th>3</th>\n",
              "      <td>32464036</td>\n",
              "      <td>Where do we go from here?\\r\\nYour clever body ...</td>\n",
              "    </tr>\n",
              "    <tr>\n",
              "      <th>4</th>\n",
              "      <td>32462762</td>\n",
              "      <td>이상한 시절\\r\\n우리는 만났어\\r\\n하늘의 빛을\\r\\n기억하는지\\r\\n나의 영혼은...</td>\n",
              "    </tr>\n",
              "    <tr>\n",
              "      <th>...</th>\n",
              "      <td>...</td>\n",
              "      <td>...</td>\n",
              "    </tr>\n",
              "    <tr>\n",
              "      <th>1995</th>\n",
              "      <td>32232990</td>\n",
              "      <td>우연히 길을 가다 널 닮은 소녈 보았지\\r\\n멈춰선 발등 위로 흐르는 하얀 눈물\\r...</td>\n",
              "    </tr>\n",
              "    <tr>\n",
              "      <th>1996</th>\n",
              "      <td>32225801</td>\n",
              "      <td>미안해 내게 말하던\\r\\n마지막까지 다정했던\\r\\n너를 보낼 수 없어서\\r\\n사랑해...</td>\n",
              "    </tr>\n",
              "    <tr>\n",
              "      <th>1997</th>\n",
              "      <td>32234106</td>\n",
              "      <td></td>\n",
              "    </tr>\n",
              "    <tr>\n",
              "      <th>1998</th>\n",
              "      <td>32233497</td>\n",
              "      <td>I feel summer's coming and I love you\\n\\n파란 하늘...</td>\n",
              "    </tr>\n",
              "    <tr>\n",
              "      <th>1999</th>\n",
              "      <td>32219982</td>\n",
              "      <td></td>\n",
              "    </tr>\n",
              "  </tbody>\n",
              "</table>\n",
              "<p>2000 rows × 2 columns</p>\n",
              "</div>\n",
              "      <button class=\"colab-df-convert\" onclick=\"convertToInteractive('df-00b5e2a5-4901-4bda-ae89-4d9648ad20e3')\"\n",
              "              title=\"Convert this dataframe to an interactive table.\"\n",
              "              style=\"display:none;\">\n",
              "        \n",
              "  <svg xmlns=\"http://www.w3.org/2000/svg\" height=\"24px\"viewBox=\"0 0 24 24\"\n",
              "       width=\"24px\">\n",
              "    <path d=\"M0 0h24v24H0V0z\" fill=\"none\"/>\n",
              "    <path d=\"M18.56 5.44l.94 2.06.94-2.06 2.06-.94-2.06-.94-.94-2.06-.94 2.06-2.06.94zm-11 1L8.5 8.5l.94-2.06 2.06-.94-2.06-.94L8.5 2.5l-.94 2.06-2.06.94zm10 10l.94 2.06.94-2.06 2.06-.94-2.06-.94-.94-2.06-.94 2.06-2.06.94z\"/><path d=\"M17.41 7.96l-1.37-1.37c-.4-.4-.92-.59-1.43-.59-.52 0-1.04.2-1.43.59L10.3 9.45l-7.72 7.72c-.78.78-.78 2.05 0 2.83L4 21.41c.39.39.9.59 1.41.59.51 0 1.02-.2 1.41-.59l7.78-7.78 2.81-2.81c.8-.78.8-2.07 0-2.86zM5.41 20L4 18.59l7.72-7.72 1.47 1.35L5.41 20z\"/>\n",
              "  </svg>\n",
              "      </button>\n",
              "      \n",
              "  <style>\n",
              "    .colab-df-container {\n",
              "      display:flex;\n",
              "      flex-wrap:wrap;\n",
              "      gap: 12px;\n",
              "    }\n",
              "\n",
              "    .colab-df-convert {\n",
              "      background-color: #E8F0FE;\n",
              "      border: none;\n",
              "      border-radius: 50%;\n",
              "      cursor: pointer;\n",
              "      display: none;\n",
              "      fill: #1967D2;\n",
              "      height: 32px;\n",
              "      padding: 0 0 0 0;\n",
              "      width: 32px;\n",
              "    }\n",
              "\n",
              "    .colab-df-convert:hover {\n",
              "      background-color: #E2EBFA;\n",
              "      box-shadow: 0px 1px 2px rgba(60, 64, 67, 0.3), 0px 1px 3px 1px rgba(60, 64, 67, 0.15);\n",
              "      fill: #174EA6;\n",
              "    }\n",
              "\n",
              "    [theme=dark] .colab-df-convert {\n",
              "      background-color: #3B4455;\n",
              "      fill: #D2E3FC;\n",
              "    }\n",
              "\n",
              "    [theme=dark] .colab-df-convert:hover {\n",
              "      background-color: #434B5C;\n",
              "      box-shadow: 0px 1px 3px 1px rgba(0, 0, 0, 0.15);\n",
              "      filter: drop-shadow(0px 1px 2px rgba(0, 0, 0, 0.3));\n",
              "      fill: #FFFFFF;\n",
              "    }\n",
              "  </style>\n",
              "\n",
              "      <script>\n",
              "        const buttonEl =\n",
              "          document.querySelector('#df-00b5e2a5-4901-4bda-ae89-4d9648ad20e3 button.colab-df-convert');\n",
              "        buttonEl.style.display =\n",
              "          google.colab.kernel.accessAllowed ? 'block' : 'none';\n",
              "\n",
              "        async function convertToInteractive(key) {\n",
              "          const element = document.querySelector('#df-00b5e2a5-4901-4bda-ae89-4d9648ad20e3');\n",
              "          const dataTable =\n",
              "            await google.colab.kernel.invokeFunction('convertToInteractive',\n",
              "                                                     [key], {});\n",
              "          if (!dataTable) return;\n",
              "\n",
              "          const docLinkHtml = 'Like what you see? Visit the ' +\n",
              "            '<a target=\"_blank\" href=https://colab.research.google.com/notebooks/data_table.ipynb>data table notebook</a>'\n",
              "            + ' to learn more about interactive tables.';\n",
              "          element.innerHTML = '';\n",
              "          dataTable['output_type'] = 'display_data';\n",
              "          await google.colab.output.renderOutput(dataTable, element);\n",
              "          const docLink = document.createElement('div');\n",
              "          docLink.innerHTML = docLinkHtml;\n",
              "          element.appendChild(docLink);\n",
              "        }\n",
              "      </script>\n",
              "    </div>\n",
              "  </div>\n",
              "  "
            ],
            "text/plain": [
              "       trackid                                             lyrics\n",
              "0     32467999  좁은 천장에서 또 깨어\\r\\n몸을 가누며 너를 기다린듯 해\\r\\n비워지는 몸뚱아리는...\n",
              "1     32467950                                                   \n",
              "2     32466498  꿈이 있어 난\\r\\n쉽지만은 않은 꿈\\r\\n길이 보일 듯\\r\\n보이지 않는 그곳에\\...\n",
              "3     32464036  Where do we go from here?\\r\\nYour clever body ...\n",
              "4     32462762  이상한 시절\\r\\n우리는 만났어\\r\\n하늘의 빛을\\r\\n기억하는지\\r\\n나의 영혼은...\n",
              "...        ...                                                ...\n",
              "1995  32232990  우연히 길을 가다 널 닮은 소녈 보았지\\r\\n멈춰선 발등 위로 흐르는 하얀 눈물\\r...\n",
              "1996  32225801  미안해 내게 말하던\\r\\n마지막까지 다정했던\\r\\n너를 보낼 수 없어서\\r\\n사랑해...\n",
              "1997  32234106                                                   \n",
              "1998  32233497  I feel summer's coming and I love you\\n\\n파란 하늘...\n",
              "1999  32219982                                                   \n",
              "\n",
              "[2000 rows x 2 columns]"
            ]
          },
          "execution_count": 7,
          "metadata": {},
          "output_type": "execute_result"
        }
      ],
      "source": [
        "with open('/content/drive/MyDrive/1조 자연어 및 이미지/가사/RockLyrics3.pkl', 'rb') as f:\n",
        "    data3 = pickle.load(f)\n",
        "data3"
      ]
    },
    {
      "cell_type": "code",
      "execution_count": null,
      "metadata": {
        "id": "08A3uz-E7y9s"
      },
      "outputs": [],
      "source": [
        "str(soup.select(\"div.lyricsContainer xmp\")[0])[5:-6]"
      ]
    },
    {
      "cell_type": "code",
      "execution_count": null,
      "metadata": {
        "colab": {
          "base_uri": "https://localhost:8080/",
          "height": 396
        },
        "id": "KETYkWpiA5at",
        "outputId": "e359bd33-0b02-46e4-dbd8-2887122b3384"
      },
      "outputs": [],
      "source": [
        "#id 수집\n",
        "idlist = []\n",
        "for num in range(201,401):\n",
        "    url = 'https://music.bugs.co.kr/genre/kpop/rock/total?tabtype=2&sort=default&nation=all&page={}'.format(num)\n",
        "    resp = requests.get(url)\n",
        "    soup = BeautifulSoup(resp.content, 'lxml')\n",
        "    td_tags = soup.select(\"td.check\")\n",
        "    for tag in td_tags:\n",
        "        idlist.append(str(tag).split('=')[-1][1:-8])\n",
        "    time.sleep(2)"
      ]
    },
    {
      "cell_type": "code",
      "execution_count": null,
      "metadata": {
        "id": "NsMTNhAWXbHg"
      },
      "outputs": [],
      "source": [
        "with open('/content/drive/MyDrive/1조 자연어 및 이미지/가사/idlist2.pkl', 'rb') as f:\n",
        "    idlist = pickle.load(f)"
      ]
    },
    {
      "cell_type": "code",
      "execution_count": null,
      "metadata": {
        "colab": {
          "base_uri": "https://localhost:8080/",
          "height": 229
        },
        "id": "gQ2aK2A-BoBo",
        "outputId": "2a8171d5-064a-4d67-c9a7-61ffcdf55064"
      },
      "outputs": [],
      "source": [
        "from bs4 import BeautifulSoup\n",
        "import requests\n",
        "import time\n",
        "import pickle\n",
        "\n",
        "yrics = []\n",
        "for id in idlist:\n",
        "    trackurl = 'https://music.bugs.co.kr/track/{}?wl_ref=list_tr_08'.format(id)\n",
        "    trackresp = requests.get(trackurl)\n",
        "    tracksoup = BeautifulSoup(trackresp.content, 'lxml')\n",
        "    contain = tracksoup.select(\"div.lyricsContainer xmp\")\n",
        "    if contain:\n",
        "        lyric = str(contain[0])[5:-6]\n",
        "    else :\n",
        "        lyric = ''\n",
        "    lyrics.append(lyric)\n",
        "    time.sleep(2)"
      ]
    },
    {
      "cell_type": "code",
      "execution_count": null,
      "metadata": {
        "id": "MRU4MK-0bmD2"
      },
      "outputs": [],
      "source": [
        "from tqdm import tqdm\n",
        "def savedata(num):\n",
        "    ids = idlist[2000 * (num-1) : 2000 * num ]\n",
        "    lyrics = []\n",
        "    for id in tqdm(ids):\n",
        "        trackurl = 'https://music.bugs.co.kr/track/{}?wl_ref=list_tr_08'.format(id) #카테고리에 맞게 바꾸어야\n",
        "        trackresp = requests.get(trackurl)\n",
        "        tracksoup = BeautifulSoup(trackresp.content, 'lxml')\n",
        "        contain = tracksoup.select(\"div.lyricsContainer xmp\")\n",
        "        if contain:\n",
        "            lyric = str(contain[0])[5:-6]\n",
        "        else :\n",
        "            lyric = ''\n",
        "        lyrics.append(lyric)\n",
        "        time.sleep(2)\n",
        "    data = pd.DataFrame({'trackid' : ids,\n",
        "              'lyrics' : lyrics})\n",
        "    with open('/content/drive/MyDrive/1조 자연어 및 이미지/가사/RockLyrics{}.pkl'.format(num), 'wb') as f: #경로 알맞게 변형\n",
        "     pickle.dump(data, f)\n",
        "\n",
        "    return data"
      ]
    },
    {
      "cell_type": "code",
      "execution_count": null,
      "metadata": {
        "id": "ca7fMikqy2a3"
      },
      "outputs": [],
      "source": [
        "from tqdm import tqdm\n",
        "def savedata(num):\n",
        "    ids = idlist[2000 * (num-1) : 2000 * num ]\n",
        "    lyrics = []\n",
        "    for id in tqdm(ids):\n",
        "        trackurl = 'https://music.bugs.co.kr/track/{}?wl_ref=list_tr_08'.format(id) #카테고리에 맞게 바꾸어야\n",
        "        trackresp = requests.get(trackurl)\n",
        "        tracksoup = BeautifulSoup(trackresp.content, 'lxml')\n",
        "        contain = tracksoup.select(\"div.lyricsContainer xmp\")\n",
        "        if contain:\n",
        "            lyric = str(contain[0])[5:-6]\n",
        "        else :\n",
        "            lyric = ''\n",
        "        lyrics.append(lyric)\n",
        "        time.sleep(2)\n",
        "    data = pd.DataFrame({'trackid' : ids,\n",
        "              'lyrics' : lyrics})\n",
        "    with open('/content/drive/MyDrive/1조 자연어 및 이미지/가사/newRockLyrics{}.pkl'.format(num), 'wb') as f: #경로 알맞게 변형\n",
        "     pickle.dump(data, f)\n",
        "\n",
        "    return data"
      ]
    },
    {
      "cell_type": "code",
      "execution_count": null,
      "metadata": {
        "colab": {
          "base_uri": "https://localhost:8080/"
        },
        "id": "vJUwef84hc_P",
        "outputId": "75965615-3c7e-4888-9519-4464628cf969"
      },
      "outputs": [
        {
          "name": "stderr",
          "output_type": "stream",
          "text": [
            "100%|██████████| 2000/2000 [1:20:58<00:00,  2.43s/it]\n",
            "100%|██████████| 2000/2000 [1:21:36<00:00,  2.45s/it]\n"
          ]
        }
      ],
      "source": [
        "for i in [1,2,3,4,5]:\n",
        "    savedata(i)"
      ]
    },
    {
      "cell_type": "code",
      "execution_count": null,
      "metadata": {
        "id": "dokE1KvQBukP"
      },
      "outputs": [],
      "source": [
        "import pandas as pd\n",
        "data1 = pd.DataFrame({'trackid' : idlist[:2000],\n",
        "              'lyrics' : lyrics[:2000]})\n",
        "\n",
        "with open('/content/drive/MyDrive/1조 자연어 및 이미지/가사/RockLyrics1.pkl', 'wb') as f:\n",
        "    pickle.dump(data1, f)"
      ]
    },
    {
      "cell_type": "code",
      "execution_count": null,
      "metadata": {
        "id": "6whApypYFcTP"
      },
      "outputs": [],
      "source": [
        "with open('/content/drive/MyDrive/1조 자연어 및 이미지/가사/idlist.pkl', 'wb') as f:\n",
        "    pickle.dump(idlist, f)"
      ]
    },
    {
      "cell_type": "code",
      "execution_count": null,
      "metadata": {
        "colab": {
          "base_uri": "https://localhost:8080/"
        },
        "id": "6RZTCl0yeHty",
        "outputId": "b6118035-157e-4e54-93e9-c11bd87fbc13"
      },
      "outputs": [
        {
          "data": {
            "text/plain": [
              "10000"
            ]
          },
          "execution_count": 29,
          "metadata": {},
          "output_type": "execute_result"
        }
      ],
      "source": [
        "len(idlist)"
      ]
    },
    {
      "cell_type": "code",
      "execution_count": null,
      "metadata": {
        "id": "YWBEEFkizP31"
      },
      "outputs": [],
      "source": [
        "from bs4 import BeautifulSoup\n",
        "import requests\n",
        "import time\n",
        "import pickle\n",
        "from tqdm import tqdm\n",
        "import pandas as pd\n",
        "#노래의 id 수집\n",
        "idlist = []\n",
        "for num in range(201,241): #1페이지부터 200페이지, 1페이지당 50곡\n",
        "    #url은 장르에 맞게 변형\n",
        "    url = 'https://music.bugs.co.kr/genre/kpop/rock/total?tabtype=2&sort=default&nation=all&page={}'.format(num)\n",
        "    resp = requests.get(url)\n",
        "    soup = BeautifulSoup(resp.content, 'lxml')\n",
        "    td_tags = soup.select(\"td.check\")\n",
        "    for tag in td_tags:\n",
        "        idlist.append(str(tag).split('=')[-1][1:-8])\n",
        "    time.sleep(2)\n",
        "#목적은 노래의 id number와 가사로 데이터프레임을 만드는 것\n",
        "#가사 없는 곡은 id는 남기고 가사를 공백처리 (차후 처리 요망)\n",
        "#2000곡 씩 나누어 저장\n",
        "def savedata(num):\n",
        "    ids = idlist\n",
        "    lyrics = []\n",
        "    for id in tqdm(ids):\n",
        "        trackurl = 'https://music.bugs.co.kr/track/{}?wl_ref=list_tr_08'.format(id) #카테고리에 맞게 바꾸어야\n",
        "        trackresp = requests.get(trackurl)\n",
        "        tracksoup = BeautifulSoup(trackresp.content, 'lxml')\n",
        "        contain = tracksoup.select(\"div.lyricsContainer xmp\")\n",
        "       #가사를 리스트에 정리\n",
        "       #가사 없는 곡은 공백처리\n",
        "        if contain:\n",
        "            lyric = str(contain[0])[5:-6]\n",
        "        else :\n",
        "            lyric = ''\n",
        "        lyrics.append(lyric)\n",
        "        time.sleep(2)\n",
        "    data = pd.DataFrame({'trackid' : ids,\n",
        "              'lyrics' : lyrics})\n",
        "    #저장\n",
        "    #파일 경로는 각자 알맞게 지정\n",
        "    with open('/content/drive/MyDrive/1조 자연어 및 이미지/가사/RockLyrics{}.pkl'.format(num), 'wb') as f:\n",
        "     pickle.dump(data, f)\n",
        "    return data\n",
        "\n",
        "savedata(6)"
      ]
    },
    {
      "cell_type": "code",
      "execution_count": null,
      "metadata": {
        "id": "vXhpeE8YzqIc"
      },
      "outputs": [],
      "source": [
        "from bs4 import BeautifulSoup\n",
        "import requests\n",
        "import time\n",
        "import pickle\n",
        "from tqdm import tqdm\n",
        "import pandas as pd\n",
        "#노래의 id 수집\n",
        "idlist = []\n",
        "for num in range(241,281): #1페이지부터 200페이지, 1페이지당 50곡\n",
        "    #url은 장르에 맞게 변형\n",
        "    url = 'https://music.bugs.co.kr/genre/kpop/rock/total?tabtype=2&sort=default&nation=all&page={}'.format(num)\n",
        "    resp = requests.get(url)\n",
        "    soup = BeautifulSoup(resp.content, 'lxml')\n",
        "    td_tags = soup.select(\"td.check\")\n",
        "    for tag in td_tags:\n",
        "        idlist.append(str(tag).split('=')[-1][1:-8])\n",
        "    time.sleep(2)\n",
        "#목적은 노래의 id number와 가사로 데이터프레임을 만드는 것\n",
        "#가사 없는 곡은 id는 남기고 가사를 공백처리 (차후 처리 요망)\n",
        "#2000곡 씩 나누어 저장\n",
        "def savedata(num):\n",
        "    ids = idlist\n",
        "    lyrics = []\n",
        "    for id in tqdm(ids):\n",
        "        trackurl = 'https://music.bugs.co.kr/track/{}?wl_ref=list_tr_08'.format(id) #카테고리에 맞게 바꾸어야\n",
        "        trackresp = requests.get(trackurl)\n",
        "        tracksoup = BeautifulSoup(trackresp.content, 'lxml')\n",
        "        contain = tracksoup.select(\"div.lyricsContainer xmp\")\n",
        "       #가사를 리스트에 정리\n",
        "       #가사 없는 곡은 공백처리\n",
        "        if contain:\n",
        "            lyric = str(contain[0])[5:-6]\n",
        "        else :\n",
        "            lyric = ''\n",
        "        lyrics.append(lyric)\n",
        "        time.sleep(2)\n",
        "    data = pd.DataFrame({'trackid' : ids,\n",
        "              'lyrics' : lyrics})\n",
        "    #저장\n",
        "    #파일 경로는 각자 알맞게 지정\n",
        "    with open('/content/drive/MyDrive/1조 자연어 및 이미지/가사/RockLyrics{}.pkl'.format(num), 'wb') as f:\n",
        "     pickle.dump(data, f)\n",
        "    return data\n",
        "\n",
        "savedata(7)"
      ]
    },
    {
      "cell_type": "code",
      "execution_count": null,
      "metadata": {
        "colab": {
          "base_uri": "https://localhost:8080/"
        },
        "id": "ktW8f_zfztQz",
        "outputId": "791f1528-1880-4d91-caaa-98600bf56331"
      },
      "outputs": [
        {
          "name": "stderr",
          "output_type": "stream",
          "text": [
            "100%|██████████| 2000/2000 [1:38:52<00:00,  2.97s/it]\n"
          ]
        },
        {
          "data": {
            "text/html": [
              "\n",
              "  <div id=\"df-29a48c06-f8c0-4856-9979-2f3edc93121c\">\n",
              "    <div class=\"colab-df-container\">\n",
              "      <div>\n",
              "<style scoped>\n",
              "    .dataframe tbody tr th:only-of-type {\n",
              "        vertical-align: middle;\n",
              "    }\n",
              "\n",
              "    .dataframe tbody tr th {\n",
              "        vertical-align: top;\n",
              "    }\n",
              "\n",
              "    .dataframe thead th {\n",
              "        text-align: right;\n",
              "    }\n",
              "</style>\n",
              "<table border=\"1\" class=\"dataframe\">\n",
              "  <thead>\n",
              "    <tr style=\"text-align: right;\">\n",
              "      <th></th>\n",
              "      <th>trackid</th>\n",
              "      <th>lyrics</th>\n",
              "    </tr>\n",
              "  </thead>\n",
              "  <tbody>\n",
              "    <tr>\n",
              "      <th>0</th>\n",
              "      <td>30487024</td>\n",
              "      <td>해가 떠있는 시간이 너무 길어졌어\\r\\n햇살 가득한 낮도 아닌 깜깜한 밤도 아닌\\r...</td>\n",
              "    </tr>\n",
              "    <tr>\n",
              "      <th>1</th>\n",
              "      <td>30485735</td>\n",
              "      <td>어두워지면 뜨거워 지는 넌 아프게 해 내 마음을\\r\\n니 모습이 선명해 질수록 타들...</td>\n",
              "    </tr>\n",
              "    <tr>\n",
              "      <th>2</th>\n",
              "      <td>30485659</td>\n",
              "      <td>바람 불기 시작해 이제 추워진다네\\r\\n찌푸린 사람들 걷고 걷고 걸었네\\r\\n우린 ...</td>\n",
              "    </tr>\n",
              "    <tr>\n",
              "      <th>3</th>\n",
              "      <td>30483922</td>\n",
              "      <td>이른 아침에 눈을 뜨고\\r\\n스마트폰을 한손에 쥐고\\r\\n\\r\\n재미가 있는 일상이...</td>\n",
              "    </tr>\n",
              "    <tr>\n",
              "      <th>4</th>\n",
              "      <td>30482357</td>\n",
              "      <td>채권 채무자\\r\\n일일 노동자\\r\\n술집알바 편의점에 노가다를 뛰자\\r\\n배달알바 ...</td>\n",
              "    </tr>\n",
              "    <tr>\n",
              "      <th>...</th>\n",
              "      <td>...</td>\n",
              "      <td>...</td>\n",
              "    </tr>\n",
              "    <tr>\n",
              "      <th>1995</th>\n",
              "      <td>4456999</td>\n",
              "      <td>다 같은 그런 길을 가지, \\n남들을 모두 따라가는 거야\\n바꿔 이번만 뭔가 더 특...</td>\n",
              "    </tr>\n",
              "    <tr>\n",
              "      <th>1996</th>\n",
              "      <td>4459111</td>\n",
              "      <td>어느 언저리에 지친 영혼이여\\n허울과 가식은 필요 없는 이곳이\\n축제의 날이네\\n\\...</td>\n",
              "    </tr>\n",
              "    <tr>\n",
              "      <th>1997</th>\n",
              "      <td>4458036</td>\n",
              "      <td>The ordinary days throw away life\\nThe adventu...</td>\n",
              "    </tr>\n",
              "    <tr>\n",
              "      <th>1998</th>\n",
              "      <td>4454878</td>\n",
              "      <td>매일같이 울리는 알람소리 \\r\\n부스스하며 난 또 일어나\\r\\n언제나처럼 길을 걷는...</td>\n",
              "    </tr>\n",
              "    <tr>\n",
              "      <th>1999</th>\n",
              "      <td>4456467</td>\n",
              "      <td>요즘 젊은 것들 (microdot ! dicpunks)\\r\\n난 요즘 젋은 것들 (...</td>\n",
              "    </tr>\n",
              "  </tbody>\n",
              "</table>\n",
              "<p>2000 rows × 2 columns</p>\n",
              "</div>\n",
              "      <button class=\"colab-df-convert\" onclick=\"convertToInteractive('df-29a48c06-f8c0-4856-9979-2f3edc93121c')\"\n",
              "              title=\"Convert this dataframe to an interactive table.\"\n",
              "              style=\"display:none;\">\n",
              "        \n",
              "  <svg xmlns=\"http://www.w3.org/2000/svg\" height=\"24px\"viewBox=\"0 0 24 24\"\n",
              "       width=\"24px\">\n",
              "    <path d=\"M0 0h24v24H0V0z\" fill=\"none\"/>\n",
              "    <path d=\"M18.56 5.44l.94 2.06.94-2.06 2.06-.94-2.06-.94-.94-2.06-.94 2.06-2.06.94zm-11 1L8.5 8.5l.94-2.06 2.06-.94-2.06-.94L8.5 2.5l-.94 2.06-2.06.94zm10 10l.94 2.06.94-2.06 2.06-.94-2.06-.94-.94-2.06-.94 2.06-2.06.94z\"/><path d=\"M17.41 7.96l-1.37-1.37c-.4-.4-.92-.59-1.43-.59-.52 0-1.04.2-1.43.59L10.3 9.45l-7.72 7.72c-.78.78-.78 2.05 0 2.83L4 21.41c.39.39.9.59 1.41.59.51 0 1.02-.2 1.41-.59l7.78-7.78 2.81-2.81c.8-.78.8-2.07 0-2.86zM5.41 20L4 18.59l7.72-7.72 1.47 1.35L5.41 20z\"/>\n",
              "  </svg>\n",
              "      </button>\n",
              "      \n",
              "  <style>\n",
              "    .colab-df-container {\n",
              "      display:flex;\n",
              "      flex-wrap:wrap;\n",
              "      gap: 12px;\n",
              "    }\n",
              "\n",
              "    .colab-df-convert {\n",
              "      background-color: #E8F0FE;\n",
              "      border: none;\n",
              "      border-radius: 50%;\n",
              "      cursor: pointer;\n",
              "      display: none;\n",
              "      fill: #1967D2;\n",
              "      height: 32px;\n",
              "      padding: 0 0 0 0;\n",
              "      width: 32px;\n",
              "    }\n",
              "\n",
              "    .colab-df-convert:hover {\n",
              "      background-color: #E2EBFA;\n",
              "      box-shadow: 0px 1px 2px rgba(60, 64, 67, 0.3), 0px 1px 3px 1px rgba(60, 64, 67, 0.15);\n",
              "      fill: #174EA6;\n",
              "    }\n",
              "\n",
              "    [theme=dark] .colab-df-convert {\n",
              "      background-color: #3B4455;\n",
              "      fill: #D2E3FC;\n",
              "    }\n",
              "\n",
              "    [theme=dark] .colab-df-convert:hover {\n",
              "      background-color: #434B5C;\n",
              "      box-shadow: 0px 1px 3px 1px rgba(0, 0, 0, 0.15);\n",
              "      filter: drop-shadow(0px 1px 2px rgba(0, 0, 0, 0.3));\n",
              "      fill: #FFFFFF;\n",
              "    }\n",
              "  </style>\n",
              "\n",
              "      <script>\n",
              "        const buttonEl =\n",
              "          document.querySelector('#df-29a48c06-f8c0-4856-9979-2f3edc93121c button.colab-df-convert');\n",
              "        buttonEl.style.display =\n",
              "          google.colab.kernel.accessAllowed ? 'block' : 'none';\n",
              "\n",
              "        async function convertToInteractive(key) {\n",
              "          const element = document.querySelector('#df-29a48c06-f8c0-4856-9979-2f3edc93121c');\n",
              "          const dataTable =\n",
              "            await google.colab.kernel.invokeFunction('convertToInteractive',\n",
              "                                                     [key], {});\n",
              "          if (!dataTable) return;\n",
              "\n",
              "          const docLinkHtml = 'Like what you see? Visit the ' +\n",
              "            '<a target=\"_blank\" href=https://colab.research.google.com/notebooks/data_table.ipynb>data table notebook</a>'\n",
              "            + ' to learn more about interactive tables.';\n",
              "          element.innerHTML = '';\n",
              "          dataTable['output_type'] = 'display_data';\n",
              "          await google.colab.output.renderOutput(dataTable, element);\n",
              "          const docLink = document.createElement('div');\n",
              "          docLink.innerHTML = docLinkHtml;\n",
              "          element.appendChild(docLink);\n",
              "        }\n",
              "      </script>\n",
              "    </div>\n",
              "  </div>\n",
              "  "
            ],
            "text/plain": [
              "       trackid                                             lyrics\n",
              "0     30487024  해가 떠있는 시간이 너무 길어졌어\\r\\n햇살 가득한 낮도 아닌 깜깜한 밤도 아닌\\r...\n",
              "1     30485735  어두워지면 뜨거워 지는 넌 아프게 해 내 마음을\\r\\n니 모습이 선명해 질수록 타들...\n",
              "2     30485659  바람 불기 시작해 이제 추워진다네\\r\\n찌푸린 사람들 걷고 걷고 걸었네\\r\\n우린 ...\n",
              "3     30483922  이른 아침에 눈을 뜨고\\r\\n스마트폰을 한손에 쥐고\\r\\n\\r\\n재미가 있는 일상이...\n",
              "4     30482357  채권 채무자\\r\\n일일 노동자\\r\\n술집알바 편의점에 노가다를 뛰자\\r\\n배달알바 ...\n",
              "...        ...                                                ...\n",
              "1995   4456999  다 같은 그런 길을 가지, \\n남들을 모두 따라가는 거야\\n바꿔 이번만 뭔가 더 특...\n",
              "1996   4459111  어느 언저리에 지친 영혼이여\\n허울과 가식은 필요 없는 이곳이\\n축제의 날이네\\n\\...\n",
              "1997   4458036  The ordinary days throw away life\\nThe adventu...\n",
              "1998   4454878  매일같이 울리는 알람소리 \\r\\n부스스하며 난 또 일어나\\r\\n언제나처럼 길을 걷는...\n",
              "1999   4456467  요즘 젊은 것들 (microdot ! dicpunks)\\r\\n난 요즘 젋은 것들 (...\n",
              "\n",
              "[2000 rows x 2 columns]"
            ]
          },
          "execution_count": 1,
          "metadata": {},
          "output_type": "execute_result"
        }
      ],
      "source": [
        "from bs4 import BeautifulSoup\n",
        "import requests\n",
        "import time\n",
        "import pickle\n",
        "from tqdm import tqdm\n",
        "import pandas as pd\n",
        "#노래의 id 수집\n",
        "idlist = []\n",
        "for num in range(281,321): #1페이지부터 200페이지, 1페이지당 50곡\n",
        "    #url은 장르에 맞게 변형\n",
        "    url = 'https://music.bugs.co.kr/genre/kpop/rock/total?tabtype=2&sort=default&nation=all&page={}'.format(num)\n",
        "    resp = requests.get(url)\n",
        "    soup = BeautifulSoup(resp.content, 'lxml')\n",
        "    td_tags = soup.select(\"td.check\")\n",
        "    for tag in td_tags:\n",
        "        idlist.append(str(tag).split('=')[-1][1:-8])\n",
        "    time.sleep(2)\n",
        "#목적은 노래의 id number와 가사로 데이터프레임을 만드는 것\n",
        "#가사 없는 곡은 id는 남기고 가사를 공백처리 (차후 처리 요망)\n",
        "#2000곡 씩 나누어 저장\n",
        "def savedata(num):\n",
        "    ids = idlist\n",
        "    lyrics = []\n",
        "    for id in tqdm(ids):\n",
        "        trackurl = 'https://music.bugs.co.kr/track/{}?wl_ref=list_tr_08'.format(id) #카테고리에 맞게 바꾸어야\n",
        "        trackresp = requests.get(trackurl)\n",
        "        tracksoup = BeautifulSoup(trackresp.content, 'lxml')\n",
        "        contain = tracksoup.select(\"div.lyricsContainer xmp\")\n",
        "       #가사를 리스트에 정리\n",
        "       #가사 없는 곡은 공백처리\n",
        "        if contain:\n",
        "            lyric = str(contain[0])[5:-6]\n",
        "        else :\n",
        "            lyric = ''\n",
        "        lyrics.append(lyric)\n",
        "        time.sleep(2)\n",
        "    data = pd.DataFrame({'trackid' : ids,\n",
        "              'lyrics' : lyrics})\n",
        "    #저장\n",
        "    #파일 경로는 각자 알맞게 지정\n",
        "    with open('/content/drive/MyDrive/1조 자연어 및 이미지/가사/RockLyrics{}.pkl'.format(num), 'wb') as f:\n",
        "     pickle.dump(data, f)\n",
        "    return data\n",
        "\n",
        "savedata(8)"
      ]
    }
  ],
  "metadata": {
    "colab": {
      "provenance": []
    },
    "kernelspec": {
      "display_name": "Python 3",
      "name": "python3"
    },
    "language_info": {
      "name": "python"
    }
  },
  "nbformat": 4,
  "nbformat_minor": 0
}
